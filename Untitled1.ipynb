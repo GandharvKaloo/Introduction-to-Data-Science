{
 "cells": [
  {
   "cell_type": "code",
   "execution_count": 22,
   "id": "08273886-069f-4ddf-a382-c87bfdcada1b",
   "metadata": {},
   "outputs": [
    {
     "name": "stdout",
     "output_type": "stream",
     "text": [
      "   product_id                                       product_name  \\\n",
      "0  B07JW9H4J1  Wayona Nylon Braided USB to Lightning Fast Cha...   \n",
      "1  B098NS6PVG  Ambrane Unbreakable 60W / 3A Fast Charging 1.5...   \n",
      "2  B096MSW6CT  Sounce Fast Phone Charging Cable & Data Sync U...   \n",
      "3  B08HDJ86NZ  boAt Deuce USB 300 2 in 1 Type-C & Micro USB S...   \n",
      "4  B08CF3B7N1  Portronics Konnect L 1.2M Fast Charging 3A 8 P...   \n",
      "\n",
      "                                            category discounted_price  \\\n",
      "0  Computers&Accessories|Accessories&Peripherals|...             ₹399   \n",
      "1  Computers&Accessories|Accessories&Peripherals|...             ₹199   \n",
      "2  Computers&Accessories|Accessories&Peripherals|...             ₹199   \n",
      "3  Computers&Accessories|Accessories&Peripherals|...             ₹329   \n",
      "4  Computers&Accessories|Accessories&Peripherals|...             ₹154   \n",
      "\n",
      "  actual_price discount_percentage rating rating_count  \\\n",
      "0       ₹1,099                 64%    4.2       24,269   \n",
      "1         ₹349                 43%    4.0       43,994   \n",
      "2       ₹1,899                 90%    3.9        7,928   \n",
      "3         ₹699                 53%    4.2       94,363   \n",
      "4         ₹399                 61%    4.2       16,905   \n",
      "\n",
      "                                       about_product  \\\n",
      "0  High Compatibility : Compatible With iPhone 12...   \n",
      "1  Compatible with all Type C enabled devices, be...   \n",
      "2  【 Fast Charger& Data Sync】-With built-in safet...   \n",
      "3  The boAt Deuce USB 300 2 in 1 cable is compati...   \n",
      "4  [CHARGE & SYNC FUNCTION]- This cable comes wit...   \n",
      "\n",
      "                                             user_id  \\\n",
      "0  AG3D6O4STAQKAY2UVGEUV46KN35Q,AHMY5CWJMMK5BJRBB...   \n",
      "1  AECPFYFQVRUWC3KGNLJIOREFP5LQ,AGYYVPDD7YG7FYNBX...   \n",
      "2  AGU3BBQ2V2DDAMOAKGFAWDDQ6QHA,AESFLDV2PT363T2AQ...   \n",
      "3  AEWAZDZZJLQUYVOVGBEUKSLXHQ5A,AG5HTSFRRE6NL3M5S...   \n",
      "4  AE3Q6KSUK5P75D5HFYHCRAOLODSA,AFUGIFH5ZAFXRDSZH...   \n",
      "\n",
      "                                           user_name  \\\n",
      "0  Manav,Adarsh gupta,Sundeep,S.Sayeed Ahmed,jasp...   \n",
      "1  ArdKn,Nirbhay kumar,Sagar Viswanathan,Asp,Plac...   \n",
      "2  Kunal,Himanshu,viswanath,sai niharka,saqib mal...   \n",
      "3  Omkar dhale,JD,HEMALATHA,Ajwadh a.,amar singh ...   \n",
      "4  rahuls6099,Swasat Borah,Ajay Wadke,Pranali,RVK...   \n",
      "\n",
      "                                           review_id  \\\n",
      "0  R3HXWT0LRP0NMF,R2AJM3LFTLZHFO,R6AQJGUP6P86,R1K...   \n",
      "1  RGIQEG07R9HS2,R1SMWZQ86XIN8U,R2J3Y1WL29GWDE,RY...   \n",
      "2  R3J3EQQ9TZI5ZJ,R3E7WBGK7ID0KV,RWU79XKQ6I1QF,R2...   \n",
      "3  R3EEUZKKK9J36I,R3HJVYCLYOY554,REDECAZ7AMPQC,R1...   \n",
      "4  R1BP4L2HH9TFUP,R16PVJEXKV6QZS,R2UPDB81N66T4P,R...   \n",
      "\n",
      "                                        review_title  \\\n",
      "0  Satisfied,Charging is really fast,Value for mo...   \n",
      "1  A Good Braided Cable for Your Type C Device,Go...   \n",
      "2  Good speed for earlier versions,Good Product,W...   \n",
      "3  Good product,Good one,Nice,Really nice product...   \n",
      "4  As good as original,Decent,Good one for second...   \n",
      "\n",
      "                                      review_content  \\\n",
      "0  Looks durable Charging is fine tooNo complains...   \n",
      "1  I ordered this cable to connect my phone to An...   \n",
      "2  Not quite durable and sturdy,https://m.media-a...   \n",
      "3  Good product,long wire,Charges good,Nice,I bou...   \n",
      "4  Bought this instead of original apple, does th...   \n",
      "\n",
      "                                            img_link  \\\n",
      "0  https://m.media-amazon.com/images/W/WEBP_40237...   \n",
      "1  https://m.media-amazon.com/images/W/WEBP_40237...   \n",
      "2  https://m.media-amazon.com/images/W/WEBP_40237...   \n",
      "3  https://m.media-amazon.com/images/I/41V5FtEWPk...   \n",
      "4  https://m.media-amazon.com/images/W/WEBP_40237...   \n",
      "\n",
      "                                        product_link  \n",
      "0  https://www.amazon.in/Wayona-Braided-WN3LG1-Sy...  \n",
      "1  https://www.amazon.in/Ambrane-Unbreakable-Char...  \n",
      "2  https://www.amazon.in/Sounce-iPhone-Charging-C...  \n",
      "3  https://www.amazon.in/Deuce-300-Resistant-Tang...  \n",
      "4  https://www.amazon.in/Portronics-Konnect-POR-1...  \n"
     ]
    }
   ],
   "source": [
    "import pandas as pd\n",
    "\n",
    "data=pd.read_csv(\"amazon.csv\")\n",
    "print(data.head())"
   ]
  },
  {
   "cell_type": "code",
   "execution_count": 23,
   "id": "b997b060-fa0c-47ca-b31a-00a50cf79b16",
   "metadata": {},
   "outputs": [
    {
     "name": "stdout",
     "output_type": "stream",
     "text": [
      "Mean actual price: 348.2177914110429\n",
      "Median actual price: 293.0\n",
      "Mode actual price: 0    184.0\n",
      "1    284.0\n",
      "Name: rating_count, dtype: float64\n"
     ]
    }
   ],
   "source": [
    "# Converting categorical data into numeric data\n",
    "data['rating_count'] = pd.to_numeric(data['rating_count'], errors='coerce')\n",
    "\n",
    "# Calculating mean, median, and mode on the elements of \"rating_count\" column\n",
    "mean = data['rating_count'].mean()\n",
    "print(f\"Mean actual price: {mean}\")\n",
    "\n",
    "median_actual_price = data['rating_count'].median()\n",
    "print(f\"Median actual price: {median_actual_price}\")\n",
    "\n",
    "mode_actual_price = data['rating_count'].mode()\n",
    "print(f\"Mode actual price: {mode_actual_price}\")\n"
   ]
  },
  {
   "cell_type": "code",
   "execution_count": null,
   "id": "0207ba0f-46de-4d28-91ca-3ee1d573c97c",
   "metadata": {},
   "outputs": [],
   "source": []
  }
 ],
 "metadata": {
  "kernelspec": {
   "display_name": "Python 3 (ipykernel)",
   "language": "python",
   "name": "python3"
  },
  "language_info": {
   "codemirror_mode": {
    "name": "ipython",
    "version": 3
   },
   "file_extension": ".py",
   "mimetype": "text/x-python",
   "name": "python",
   "nbconvert_exporter": "python",
   "pygments_lexer": "ipython3",
   "version": "3.11.5"
  }
 },
 "nbformat": 4,
 "nbformat_minor": 5
}
