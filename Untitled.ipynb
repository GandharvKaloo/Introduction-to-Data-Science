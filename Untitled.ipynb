{
 "cells": [
  {
   "cell_type": "code",
   "execution_count": 12,
   "id": "a3ca687d-13e5-4c17-906a-ec32857e3117",
   "metadata": {},
   "outputs": [
    {
     "name": "stdout",
     "output_type": "stream",
     "text": [
      "mean salary: 74768.32197169267\n",
      "median_rating_count: 71426.60999999999\n",
      "mode_rating_count: 0    0.0\n",
      "Name: TotalPay, dtype: float64\n"
     ]
    }
   ],
   "source": [
    "import pandas as pd\n",
    "import numpy as np\n",
    "import scipy as stats\n",
    "\n",
    "#Load the dataset\n",
    "data=pd.read_csv(\"Salaries.csv\")\n",
    "#print(data.head(2))\n",
    "\n",
    "mean =data['TotalPay'].mean()\n",
    "print(f\"mean salary: {mean}\")\n",
    "\n",
    "median_rating_count=data['TotalPay'].median()\n",
    "print(f\"median_rating_count: {median_rating_count}\")\n",
    "\n",
    "mode_rating_count=data['TotalPay'].mode()\n",
    "print(f\"mode_rating_count: {mode_rating_count}\")"
   ]
  },
  {
   "cell_type": "code",
   "execution_count": null,
   "id": "912ffe20-3e48-48b6-bd09-c0e24c5730a6",
   "metadata": {},
   "outputs": [],
   "source": []
  }
 ],
 "metadata": {
  "kernelspec": {
   "display_name": "Python 3 (ipykernel)",
   "language": "python",
   "name": "python3"
  },
  "language_info": {
   "codemirror_mode": {
    "name": "ipython",
    "version": 3
   },
   "file_extension": ".py",
   "mimetype": "text/x-python",
   "name": "python",
   "nbconvert_exporter": "python",
   "pygments_lexer": "ipython3",
   "version": "3.11.5"
  }
 },
 "nbformat": 4,
 "nbformat_minor": 5
}
